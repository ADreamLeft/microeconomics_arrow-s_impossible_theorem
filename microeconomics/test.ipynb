{
 "cells": [
  {
   "cell_type": "code",
   "execution_count": 42,
   "metadata": {},
   "outputs": [],
   "source": [
    "import numpy as np\n",
    "import pandas as pd\n",
    "\n",
    "class Person:\n",
    "\n",
    "    def __init__(self, selections) -> None:\n",
    "        pass\n",
    "\n",
    "    def change_vote(self, A, B) -> bool:\n",
    "        return (A >= B) and (A + B < 5)\n",
    "\n",
    "class Group:\n",
    "\n",
    "    def __init__(self, selections, selectors) -> None:\n",
    "        self.selectionsnum = selections\n",
    "        self.selectorsnum = selectors\n",
    "        self.selections = np.arange(self.selectionsnum)\n",
    "        self.selectors = [Person(self.selections) for _ in np.arange(self.selectorsnum)]\n",
    "\n",
    "    def convert(self, A:int, B:int) -> bool:\n",
    "        if sum([person.change_vote(A, B ) for person in self.selectors]) / self.selectorsnum >= 0.5:\n",
    "            return True\n",
    "        return False\n",
    "\n",
    "    def convertions(self, A) -> list:\n",
    "        return [selection for selection in self.selections if self.convert(A, selection)]\n",
    "\n",
    "    def approachable(self, A:int, B:int) -> bool:\n",
    "        if A == B:\n",
    "            return True\n",
    "\n",
    "        visited = set()  # 用于存储已经访问过的点\n",
    "        queue = self.convertions(A) # 初始化队列，起始点入队\n",
    "\n",
    "        while queue:\n",
    "            vertex = queue.pop(0)  # 从队列中取出一个点\n",
    "            visited.add(vertex)  # 标记该点为已访问\n",
    "\n",
    "            # 遍历所有从当前点可以直接到达的点\n",
    "            for neighbor in self.convertions(vertex):\n",
    "                if neighbor not in visited:  # 如果该点还没有被访问过\n",
    "                    if neighbor == B:\n",
    "                        return True\n",
    "                    queue.append(neighbor)  # 将该点入队\n",
    "                    \n",
    "        return False\n",
    "                \n",
    "    def draw_approachable_matrix(self) -> np.array:\n",
    "        matrix = np.full((self.selectionsnum, self.selectionsnum), 0)\n",
    "        for i in self.selections:\n",
    "            for j in self.selections:\n",
    "                if self.approachable(i , j):\n",
    "                    matrix[i, j] = 1\n",
    "                \n",
    "        return matrix\n"
   ]
  },
  {
   "cell_type": "code",
   "execution_count": 43,
   "metadata": {},
   "outputs": [
    {
     "name": "stdout",
     "output_type": "stream",
     "text": [
      "[[1 0 0 0 0]\n",
      " [0 1 0 0 0]\n",
      " [0 0 1 0 0]\n",
      " [0 0 0 1 0]\n",
      " [0 0 0 0 1]]\n"
     ]
    }
   ],
   "source": [
    "selections = 5\n",
    "selectors = 5\n",
    "a = Group(selections, selectors).draw_approachable_matrix()\n",
    "print(a)"
   ]
  },
  {
   "cell_type": "code",
   "execution_count": null,
   "metadata": {},
   "outputs": [],
   "source": []
  }
 ],
 "metadata": {
  "kernelspec": {
   "display_name": "env1",
   "language": "python",
   "name": "python3"
  },
  "language_info": {
   "codemirror_mode": {
    "name": "ipython",
    "version": 3
   },
   "file_extension": ".py",
   "mimetype": "text/x-python",
   "name": "python",
   "nbconvert_exporter": "python",
   "pygments_lexer": "ipython3",
   "version": "3.8.18"
  }
 },
 "nbformat": 4,
 "nbformat_minor": 2
}
